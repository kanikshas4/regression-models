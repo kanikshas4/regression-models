{
  "nbformat": 4,
  "nbformat_minor": 0,
  "metadata": {
    "colab": {
      "name": "multipleLINEARregression.ipynb",
      "provenance": [],
      "collapsed_sections": []
    },
    "kernelspec": {
      "name": "python3",
      "display_name": "Python 3"
    },
    "language_info": {
      "name": "python"
    }
  },
  "cells": [
    {
      "cell_type": "code",
      "metadata": {
        "id": "aZfhZhjSFB97"
      },
      "source": [
        "import numpy as np\n",
        "import pandas as pd\n",
        "import matplotlib.pyplot as plt\n"
      ],
      "execution_count": 1,
      "outputs": []
    },
    {
      "cell_type": "code",
      "metadata": {
        "id": "L4NC9cJNFog1"
      },
      "source": [
        "dataset= pd.read_csv('weather.csv')\n",
        "X=dataset.iloc[:, 1:5].values \n",
        "y=dataset.iloc[:,0].values"
      ],
      "execution_count": 9,
      "outputs": []
    },
    {
      "cell_type": "code",
      "metadata": {
        "colab": {
          "base_uri": "https://localhost:8080/"
        },
        "id": "rWVGACFrGGfJ",
        "outputId": "6ebbbfbb-041b-45c5-8460-0599cf58bf06"
      },
      "source": [
        "y"
      ],
      "execution_count": 10,
      "outputs": [
        {
          "output_type": "execute_result",
          "data": {
            "text/plain": [
              "array([-0.55555556, 21.11111111, 16.6       , ...,  5.97777778,\n",
              "        9.78888889, 11.13888889])"
            ]
          },
          "metadata": {
            "tags": []
          },
          "execution_count": 10
        }
      ]
    },
    {
      "cell_type": "code",
      "metadata": {
        "colab": {
          "base_uri": "https://localhost:8080/"
        },
        "id": "GWHVtmLxHMej",
        "outputId": "65d603dc-513c-4647-f4c0-bfbc83110eff"
      },
      "source": [
        "X"
      ],
      "execution_count": 11,
      "outputs": [
        {
          "output_type": "execute_result",
          "data": {
            "text/plain": [
              "array([[  0.92  ,  11.27  , 130.    ,   8.05  ],\n",
              "       [  0.73  ,  20.93  , 330.    ,  16.1   ],\n",
              "       [  0.97  ,   5.9731, 193.    ,  14.9086],\n",
              "       ...,\n",
              "       [  0.93  ,  11.0446, 269.    ,  14.9086],\n",
              "       [  0.78  ,   8.1788, 231.    ,   7.8246],\n",
              "       [  0.79  ,  14.2485, 131.    ,  10.2557]])"
            ]
          },
          "metadata": {
            "tags": []
          },
          "execution_count": 11
        }
      ]
    },
    {
      "cell_type": "code",
      "metadata": {
        "id": "o4mLU2f0Havt"
      },
      "source": [
        "from sklearn.model_selection import train_test_split\n",
        "X_train, X_test,y_train,y_test= train_test_split(X,y,test_size=1/3,random_state=0)"
      ],
      "execution_count": 12,
      "outputs": []
    },
    {
      "cell_type": "code",
      "metadata": {
        "colab": {
          "base_uri": "https://localhost:8080/"
        },
        "id": "653UIFQrHxQK",
        "outputId": "b02af057-db1c-41c9-c4b3-34ff708e4f98"
      },
      "source": [
        "from sklearn.linear_model import LinearRegression\n",
        "regressor = LinearRegression()\n",
        "regressor.fit(X_train, y_train)"
      ],
      "execution_count": 13,
      "outputs": [
        {
          "output_type": "execute_result",
          "data": {
            "text/plain": [
              "LinearRegression(copy_X=True, fit_intercept=True, n_jobs=None, normalize=False)"
            ]
          },
          "metadata": {
            "tags": []
          },
          "execution_count": 13
        }
      ]
    },
    {
      "cell_type": "code",
      "metadata": {
        "colab": {
          "base_uri": "https://localhost:8080/"
        },
        "id": "76XUvuxhJ0v-",
        "outputId": "1824ca68-3e42-441a-f610-4010302f3f32"
      },
      "source": [
        "y_pred =  regressor.predict(X_test)\n",
        "np.set_printoptions(precision=2)\n",
        "print(np.concatenate((y_pred.reshape(len(y_pred),1),y_test.reshape(len(y_test),1)),1))  "
      ],
      "execution_count": 16,
      "outputs": [
        {
          "output_type": "stream",
          "text": [
            "[[18.32 21.18]\n",
            " [ 5.92  6.26]\n",
            " [ 9.94  2.64]\n",
            " ...\n",
            " [11.66 21.21]\n",
            " [16.63 -5.93]\n",
            " [13.42  2.84]]\n"
          ],
          "name": "stdout"
        }
      ]
    },
    {
      "cell_type": "code",
      "metadata": {
        "id": "IdhhGxzjRZvu"
      },
      "source": [
        ""
      ],
      "execution_count": null,
      "outputs": []
    }
  ]
}