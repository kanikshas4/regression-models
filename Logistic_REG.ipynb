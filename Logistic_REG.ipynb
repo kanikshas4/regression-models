{
  "nbformat": 4,
  "nbformat_minor": 0,
  "metadata": {
    "colab": {
      "name": "Logistic_REG.ipynb",
      "provenance": []
    },
    "kernelspec": {
      "name": "python3",
      "display_name": "Python 3"
    },
    "language_info": {
      "name": "python"
    }
  },
  "cells": [
    {
      "cell_type": "code",
      "metadata": {
        "id": "BSNQIPopEkhF"
      },
      "source": [
        "import pandas as pd\n",
        "import numpy as np\n",
        "import matplotlib.pyplot as plt\n"
      ],
      "execution_count": null,
      "outputs": []
    },
    {
      "cell_type": "code",
      "metadata": {
        "id": "NhpLzkRDE5F4"
      },
      "source": [
        "dataset=pd.read_csv('insurance.csv')\n",
        "X=dataset[['age','bmi']].values\n",
        "y=dataset.iloc[:, 4].values"
      ],
      "execution_count": null,
      "outputs": []
    },
    {
      "cell_type": "code",
      "metadata": {
        "colab": {
          "base_uri": "https://localhost:8080/"
        },
        "id": "3_fnLX8XE5Po",
        "outputId": "89d03cbd-e04b-4294-f811-8f509e977b03"
      },
      "source": [
        "X"
      ],
      "execution_count": null,
      "outputs": [
        {
          "output_type": "execute_result",
          "data": {
            "text/plain": [
              "array([[19.  , 27.9 ],\n",
              "       [18.  , 33.77],\n",
              "       [28.  , 33.  ],\n",
              "       ...,\n",
              "       [18.  , 36.85],\n",
              "       [21.  , 25.8 ],\n",
              "       [61.  , 29.07]])"
            ]
          },
          "metadata": {
            "tags": []
          },
          "execution_count": 30
        }
      ]
    },
    {
      "cell_type": "code",
      "metadata": {
        "colab": {
          "base_uri": "https://localhost:8080/"
        },
        "id": "xPQW9e_GG2Mu",
        "outputId": "52967474-c1f5-4a3b-ce3c-4f0cd300142b"
      },
      "source": [
        "y"
      ],
      "execution_count": null,
      "outputs": [
        {
          "output_type": "execute_result",
          "data": {
            "text/plain": [
              "array(['yes', 'no', 'no', ..., 'no', 'no', 'yes'], dtype=object)"
            ]
          },
          "metadata": {
            "tags": []
          },
          "execution_count": 31
        }
      ]
    },
    {
      "cell_type": "code",
      "metadata": {
        "id": "X_48O5coG6ff"
      },
      "source": [
        "from sklearn.preprocessing import LabelEncoder\n",
        "LE = LabelEncoder()\n",
        "y=LE.fit_transform(y)\n"
      ],
      "execution_count": null,
      "outputs": []
    },
    {
      "cell_type": "code",
      "metadata": {
        "colab": {
          "base_uri": "https://localhost:8080/"
        },
        "id": "us0X6v2dHnwS",
        "outputId": "b79beb25-77fa-421d-a150-7f947d145866"
      },
      "source": [
        "y"
      ],
      "execution_count": null,
      "outputs": [
        {
          "output_type": "execute_result",
          "data": {
            "text/plain": [
              "array([1, 0, 0, ..., 0, 0, 1])"
            ]
          },
          "metadata": {
            "tags": []
          },
          "execution_count": 33
        }
      ]
    },
    {
      "cell_type": "code",
      "metadata": {
        "id": "oSGV9ceQHqOq"
      },
      "source": [
        "from sklearn.model_selection import train_test_split\n",
        "X_train, X_test, y_train, y_test = train_test_split(X,y,test_size=0.2,random_state = 0)"
      ],
      "execution_count": null,
      "outputs": []
    },
    {
      "cell_type": "code",
      "metadata": {
        "colab": {
          "base_uri": "https://localhost:8080/"
        },
        "id": "F_XI9NUnQa5f",
        "outputId": "ab38b448-165e-4537-c85c-edef53d96834"
      },
      "source": [
        "X_test"
      ],
      "execution_count": null,
      "outputs": [
        {
          "output_type": "execute_result",
          "data": {
            "text/plain": [
              "array([[52.   , 30.2  ],\n",
              "       [47.   , 29.37 ],\n",
              "       [48.   , 40.565],\n",
              "       [61.   , 38.38 ],\n",
              "       [51.   , 18.05 ],\n",
              "       [34.   , 21.375],\n",
              "       [18.   , 26.315],\n",
              "       [51.   , 36.385],\n",
              "       [38.   , 30.21 ],\n",
              "       [31.   , 31.065],\n",
              "       [34.   , 19.   ],\n",
              "       [50.   , 26.22 ],\n",
              "       [43.   , 29.9  ],\n",
              "       [33.   , 24.31 ],\n",
              "       [27.   , 28.5  ],\n",
              "       [50.   , 28.16 ],\n",
              "       [60.   , 24.32 ],\n",
              "       [26.   , 32.49 ],\n",
              "       [38.   , 29.26 ],\n",
              "       [20.   , 30.685],\n",
              "       [51.   , 24.795],\n",
              "       [56.   , 33.82 ],\n",
              "       [52.   , 30.875],\n",
              "       [47.   , 27.83 ],\n",
              "       [22.   , 33.77 ],\n",
              "       [32.   , 37.335],\n",
              "       [28.   , 17.29 ],\n",
              "       [40.   , 33.   ],\n",
              "       [31.   , 25.74 ],\n",
              "       [45.   , 30.495],\n",
              "       [40.   , 28.69 ],\n",
              "       [59.   , 41.14 ],\n",
              "       [62.   , 37.4  ],\n",
              "       [55.   , 37.3  ],\n",
              "       [24.   , 20.52 ],\n",
              "       [30.   , 27.93 ],\n",
              "       [46.   , 38.17 ],\n",
              "       [28.   , 36.4  ],\n",
              "       [40.   , 32.775],\n",
              "       [20.   , 33.3  ],\n",
              "       [36.   , 19.855],\n",
              "       [29.   , 27.94 ],\n",
              "       [39.   , 26.41 ],\n",
              "       [58.   , 36.955],\n",
              "       [18.   , 36.85 ],\n",
              "       [21.   , 32.68 ],\n",
              "       [50.   , 27.83 ],\n",
              "       [42.   , 26.315],\n",
              "       [30.   , 21.945],\n",
              "       [57.   , 23.98 ],\n",
              "       [23.   , 34.865],\n",
              "       [19.   , 27.93 ],\n",
              "       [48.   , 28.   ],\n",
              "       [51.   , 37.05 ],\n",
              "       [58.   , 41.91 ],\n",
              "       [28.   , 35.435],\n",
              "       [26.   , 35.42 ],\n",
              "       [50.   , 26.41 ],\n",
              "       [43.   , 25.52 ],\n",
              "       [60.   , 24.32 ],\n",
              "       [19.   , 28.7  ],\n",
              "       [62.   , 30.875],\n",
              "       [60.   , 33.11 ],\n",
              "       [50.   , 32.3  ],\n",
              "       [48.   , 35.625],\n",
              "       [51.   , 39.5  ],\n",
              "       [19.   , 30.25 ],\n",
              "       [31.   , 34.39 ],\n",
              "       [21.   , 21.89 ],\n",
              "       [40.   , 30.875],\n",
              "       [61.   , 28.2  ],\n",
              "       [57.   , 27.94 ],\n",
              "       [20.   , 27.3  ],\n",
              "       [63.   , 36.85 ],\n",
              "       [60.   , 24.035],\n",
              "       [60.   , 27.55 ],\n",
              "       [46.   , 22.3  ],\n",
              "       [44.   , 30.69 ],\n",
              "       [37.   , 25.555],\n",
              "       [61.   , 36.3  ],\n",
              "       [56.   , 28.785],\n",
              "       [43.   , 46.2  ],\n",
              "       [22.   , 32.11 ],\n",
              "       [45.   , 30.2  ],\n",
              "       [43.   , 34.96 ],\n",
              "       [34.   , 25.3  ],\n",
              "       [26.   , 42.4  ],\n",
              "       [26.   , 31.065],\n",
              "       [59.   , 27.5  ],\n",
              "       [30.   , 35.3  ],\n",
              "       [32.   , 37.145],\n",
              "       [55.   , 29.9  ],\n",
              "       [25.   , 41.325],\n",
              "       [45.   , 27.83 ],\n",
              "       [34.   , 34.675],\n",
              "       [32.   , 31.54 ],\n",
              "       [55.   , 30.685],\n",
              "       [44.   , 30.2  ],\n",
              "       [31.   , 32.775],\n",
              "       [56.   , 40.3  ],\n",
              "       [23.   , 32.56 ],\n",
              "       [36.   , 33.82 ],\n",
              "       [28.   , 33.   ],\n",
              "       [36.   , 34.43 ],\n",
              "       [42.   , 28.31 ],\n",
              "       [27.   , 21.47 ],\n",
              "       [56.   , 22.1  ],\n",
              "       [28.   , 34.77 ],\n",
              "       [58.   , 34.865],\n",
              "       [60.   , 32.8  ],\n",
              "       [54.   , 21.47 ],\n",
              "       [30.   , 44.22 ],\n",
              "       [48.   , 28.88 ],\n",
              "       [18.   , 31.73 ],\n",
              "       [57.   , 42.13 ],\n",
              "       [42.   , 26.125],\n",
              "       [20.   , 22.   ],\n",
              "       [50.   , 26.6  ],\n",
              "       [59.   , 37.1  ],\n",
              "       [46.   , 25.745],\n",
              "       [43.   , 35.97 ],\n",
              "       [52.   , 18.335],\n",
              "       [64.   , 39.7  ],\n",
              "       [30.   , 37.43 ],\n",
              "       [44.   , 27.5  ],\n",
              "       [29.   , 20.235],\n",
              "       [47.   , 26.125],\n",
              "       [45.   , 22.895],\n",
              "       [60.   , 39.9  ],\n",
              "       [21.   , 36.86 ],\n",
              "       [44.   , 29.81 ],\n",
              "       [18.   , 33.77 ],\n",
              "       [38.   , 30.69 ],\n",
              "       [51.   , 22.42 ],\n",
              "       [42.   , 30.   ],\n",
              "       [34.   , 30.8  ],\n",
              "       [42.   , 24.64 ],\n",
              "       [50.   , 23.54 ],\n",
              "       [53.   , 22.88 ],\n",
              "       [23.   , 27.36 ],\n",
              "       [20.   , 31.92 ],\n",
              "       [55.   , 27.645],\n",
              "       [49.   , 37.51 ],\n",
              "       [54.   , 32.775],\n",
              "       [34.   , 25.27 ],\n",
              "       [64.   , 35.97 ],\n",
              "       [59.   , 36.52 ],\n",
              "       [23.   , 23.18 ],\n",
              "       [19.   , 21.755],\n",
              "       [54.   , 25.46 ],\n",
              "       [38.   , 27.265],\n",
              "       [27.   , 42.13 ],\n",
              "       [51.   , 32.3  ],\n",
              "       [18.   , 30.03 ],\n",
              "       [19.   , 39.615],\n",
              "       [40.   , 29.81 ],\n",
              "       [22.   , 31.35 ],\n",
              "       [18.   , 29.37 ],\n",
              "       [50.   , 28.12 ],\n",
              "       [47.   , 33.915],\n",
              "       [27.   , 32.585],\n",
              "       [62.   , 39.93 ],\n",
              "       [60.   , 25.84 ],\n",
              "       [51.   , 39.7  ],\n",
              "       [32.   , 20.52 ],\n",
              "       [24.   , 33.63 ],\n",
              "       [19.   , 21.7  ],\n",
              "       [31.   , 30.495],\n",
              "       [31.   , 26.885],\n",
              "       [18.   , 39.82 ],\n",
              "       [27.   , 33.155],\n",
              "       [28.   , 26.98 ],\n",
              "       [43.   , 30.685],\n",
              "       [24.   , 35.86 ],\n",
              "       [27.   , 30.3  ],\n",
              "       [25.   , 33.66 ],\n",
              "       [28.   , 22.515],\n",
              "       [39.   , 21.85 ],\n",
              "       [59.   , 29.83 ],\n",
              "       [18.   , 26.125],\n",
              "       [52.   , 31.73 ],\n",
              "       [37.   , 30.875],\n",
              "       [57.   , 34.01 ],\n",
              "       [27.   , 33.66 ],\n",
              "       [34.   , 22.42 ],\n",
              "       [62.   , 26.695],\n",
              "       [22.   , 31.73 ],\n",
              "       [21.   , 26.4  ],\n",
              "       [64.   , 32.965],\n",
              "       [49.   , 33.345],\n",
              "       [50.   , 31.825],\n",
              "       [26.   , 29.92 ],\n",
              "       [36.   , 25.9  ],\n",
              "       [48.   , 24.42 ],\n",
              "       [25.   , 35.625],\n",
              "       [24.   , 25.8  ],\n",
              "       [37.   , 29.83 ],\n",
              "       [33.   , 36.29 ],\n",
              "       [29.   , 37.29 ],\n",
              "       [31.   , 28.595],\n",
              "       [54.   , 32.3  ],\n",
              "       [64.   , 33.88 ],\n",
              "       [55.   , 32.775],\n",
              "       [31.   , 25.9  ],\n",
              "       [29.   , 31.73 ],\n",
              "       [47.   , 36.63 ],\n",
              "       [25.   , 24.985],\n",
              "       [52.   , 34.1  ],\n",
              "       [35.   , 35.86 ],\n",
              "       [18.   , 43.01 ],\n",
              "       [48.   , 32.3  ],\n",
              "       [62.   , 31.73 ],\n",
              "       [28.   , 26.315],\n",
              "       [23.   , 33.4  ],\n",
              "       [41.   , 28.8  ],\n",
              "       [24.   , 23.4  ],\n",
              "       [36.   , 27.55 ],\n",
              "       [33.   , 22.135],\n",
              "       [59.   , 27.83 ],\n",
              "       [37.   , 17.29 ],\n",
              "       [34.   , 38.   ],\n",
              "       [39.   , 23.275],\n",
              "       [48.   , 28.9  ],\n",
              "       [25.   , 23.465],\n",
              "       [58.   , 33.1  ],\n",
              "       [64.   , 37.905],\n",
              "       [56.   , 37.51 ],\n",
              "       [58.   , 25.2  ],\n",
              "       [38.   , 21.12 ],\n",
              "       [25.   , 25.74 ],\n",
              "       [18.   , 30.14 ],\n",
              "       [46.   , 39.425],\n",
              "       [59.   , 35.2  ],\n",
              "       [18.   , 31.35 ],\n",
              "       [32.   , 23.65 ],\n",
              "       [41.   , 32.2  ],\n",
              "       [48.   , 27.36 ],\n",
              "       [24.   , 31.065],\n",
              "       [38.   , 28.025],\n",
              "       [53.   , 23.75 ],\n",
              "       [38.   , 27.6  ],\n",
              "       [20.   , 35.625],\n",
              "       [41.   , 37.1  ],\n",
              "       [43.   , 25.08 ],\n",
              "       [43.   , 30.115],\n",
              "       [53.   , 31.16 ],\n",
              "       [21.   , 25.745],\n",
              "       [43.   , 34.58 ],\n",
              "       [22.   , 23.18 ],\n",
              "       [41.   , 23.94 ],\n",
              "       [30.   , 28.38 ],\n",
              "       [63.   , 32.2  ],\n",
              "       [26.   , 34.2  ],\n",
              "       [25.   , 42.13 ],\n",
              "       [18.   , 29.165],\n",
              "       [18.   , 22.99 ],\n",
              "       [45.   , 33.7  ],\n",
              "       [18.   , 36.85 ],\n",
              "       [25.   , 26.695],\n",
              "       [27.   , 23.21 ],\n",
              "       [45.   , 20.35 ],\n",
              "       [50.   , 27.6  ],\n",
              "       [62.   , 32.015],\n",
              "       [62.   , 30.495],\n",
              "       [41.   , 28.405],\n",
              "       [57.   , 40.28 ],\n",
              "       [30.   , 39.05 ],\n",
              "       [46.   , 24.795]])"
            ]
          },
          "metadata": {
            "tags": []
          },
          "execution_count": 35
        }
      ]
    },
    {
      "cell_type": "code",
      "metadata": {
        "id": "tZkoAIg4LrFT"
      },
      "source": [
        "from sklearn.preprocessing import StandardScaler\n",
        "sc = StandardScaler()\n",
        "X_train = sc.fit_transform(X_train)\n",
        "X_test = sc.fit_transform(X_test)"
      ],
      "execution_count": null,
      "outputs": []
    },
    {
      "cell_type": "code",
      "metadata": {
        "colab": {
          "base_uri": "https://localhost:8080/"
        },
        "id": "YtynVpcSNIDV",
        "outputId": "9586cd0b-d219-40b5-bb08-6df77e5b3a9d"
      },
      "source": [
        "from sklearn.linear_model import LogisticRegression\n",
        "classifier = LogisticRegression(random_state=0)\n",
        "classifier.fit(X_train, y_train)"
      ],
      "execution_count": null,
      "outputs": [
        {
          "output_type": "execute_result",
          "data": {
            "text/plain": [
              "LogisticRegression(C=1.0, class_weight=None, dual=False, fit_intercept=True,\n",
              "                   intercept_scaling=1, l1_ratio=None, max_iter=100,\n",
              "                   multi_class='auto', n_jobs=None, penalty='l2',\n",
              "                   random_state=0, solver='lbfgs', tol=0.0001, verbose=0,\n",
              "                   warm_start=False)"
            ]
          },
          "metadata": {
            "tags": []
          },
          "execution_count": 38
        }
      ]
    },
    {
      "cell_type": "code",
      "metadata": {
        "colab": {
          "base_uri": "https://localhost:8080/"
        },
        "id": "CGBC-tRBOK1X",
        "outputId": "4a9a4465-186b-421e-dc8e-1f2bede8931f"
      },
      "source": [
        "print(classifier.predict(sc.transform([[52.0,30.2]])))"
      ],
      "execution_count": null,
      "outputs": [
        {
          "output_type": "stream",
          "text": [
            "[0]\n"
          ],
          "name": "stdout"
        }
      ]
    },
    {
      "cell_type": "code",
      "metadata": {
        "id": "TMfGOHVgRlMN",
        "colab": {
          "base_uri": "https://localhost:8080/"
        },
        "outputId": "af51a5c8-07de-4fec-a84f-dd3a7beaad86"
      },
      "source": [
        "y_pred = classifier.predict(X_test)\n",
        "print(np.concatenate((y_pred.reshape(len(y_pred),1), y_test.reshape(len(y_test),1)),1))"
      ],
      "execution_count": 41,
      "outputs": [
        {
          "output_type": "stream",
          "text": [
            "[[0 0]\n",
            " [0 0]\n",
            " [0 1]\n",
            " [0 0]\n",
            " [0 0]\n",
            " [0 0]\n",
            " [0 0]\n",
            " [0 0]\n",
            " [0 0]\n",
            " [0 0]\n",
            " [0 0]\n",
            " [0 0]\n",
            " [0 0]\n",
            " [0 0]\n",
            " [0 1]\n",
            " [0 0]\n",
            " [0 0]\n",
            " [0 0]\n",
            " [0 0]\n",
            " [0 1]\n",
            " [0 1]\n",
            " [0 0]\n",
            " [0 0]\n",
            " [0 1]\n",
            " [0 0]\n",
            " [0 0]\n",
            " [0 0]\n",
            " [0 0]\n",
            " [0 0]\n",
            " [0 0]\n",
            " [0 0]\n",
            " [0 1]\n",
            " [0 0]\n",
            " [0 0]\n",
            " [0 1]\n",
            " [0 0]\n",
            " [0 0]\n",
            " [0 1]\n",
            " [0 1]\n",
            " [0 0]\n",
            " [0 0]\n",
            " [0 0]\n",
            " [0 1]\n",
            " [0 1]\n",
            " [0 1]\n",
            " [0 0]\n",
            " [0 0]\n",
            " [0 0]\n",
            " [0 0]\n",
            " [0 0]\n",
            " [0 0]\n",
            " [0 0]\n",
            " [0 1]\n",
            " [0 1]\n",
            " [0 0]\n",
            " [0 0]\n",
            " [0 0]\n",
            " [0 0]\n",
            " [0 0]\n",
            " [0 0]\n",
            " [0 0]\n",
            " [0 1]\n",
            " [0 0]\n",
            " [0 0]\n",
            " [0 0]\n",
            " [0 0]\n",
            " [0 1]\n",
            " [0 1]\n",
            " [0 0]\n",
            " [0 0]\n",
            " [0 0]\n",
            " [0 0]\n",
            " [0 1]\n",
            " [0 0]\n",
            " [0 0]\n",
            " [0 0]\n",
            " [0 0]\n",
            " [0 0]\n",
            " [0 1]\n",
            " [0 1]\n",
            " [0 0]\n",
            " [0 1]\n",
            " [0 0]\n",
            " [0 0]\n",
            " [0 1]\n",
            " [0 1]\n",
            " [0 0]\n",
            " [0 0]\n",
            " [0 0]\n",
            " [0 1]\n",
            " [0 0]\n",
            " [0 0]\n",
            " [0 0]\n",
            " [0 0]\n",
            " [0 0]\n",
            " [0 0]\n",
            " [0 1]\n",
            " [0 1]\n",
            " [0 0]\n",
            " [0 0]\n",
            " [0 0]\n",
            " [0 0]\n",
            " [0 0]\n",
            " [0 1]\n",
            " [0 1]\n",
            " [0 0]\n",
            " [0 0]\n",
            " [0 0]\n",
            " [0 0]\n",
            " [0 1]\n",
            " [0 0]\n",
            " [0 0]\n",
            " [0 0]\n",
            " [0 1]\n",
            " [0 1]\n",
            " [0 0]\n",
            " [0 0]\n",
            " [0 0]\n",
            " [0 0]\n",
            " [0 0]\n",
            " [0 1]\n",
            " [0 0]\n",
            " [0 0]\n",
            " [0 0]\n",
            " [0 0]\n",
            " [0 0]\n",
            " [0 1]\n",
            " [0 1]\n",
            " [0 1]\n",
            " [0 0]\n",
            " [0 0]\n",
            " [0 0]\n",
            " [0 0]\n",
            " [0 0]\n",
            " [0 1]\n",
            " [0 1]\n",
            " [0 1]\n",
            " [0 0]\n",
            " [0 1]\n",
            " [0 0]\n",
            " [0 0]\n",
            " [0 0]\n",
            " [0 0]\n",
            " [0 0]\n",
            " [0 0]\n",
            " [0 0]\n",
            " [0 0]\n",
            " [0 0]\n",
            " [0 0]\n",
            " [0 0]\n",
            " [0 0]\n",
            " [0 1]\n",
            " [0 0]\n",
            " [0 0]\n",
            " [0 0]\n",
            " [0 0]\n",
            " [0 0]\n",
            " [0 0]\n",
            " [0 0]\n",
            " [0 0]\n",
            " [0 0]\n",
            " [0 0]\n",
            " [0 0]\n",
            " [0 0]\n",
            " [0 0]\n",
            " [0 0]\n",
            " [0 1]\n",
            " [0 0]\n",
            " [0 0]\n",
            " [0 0]\n",
            " [0 0]\n",
            " [0 0]\n",
            " [0 0]\n",
            " [0 0]\n",
            " [0 0]\n",
            " [0 0]\n",
            " [0 0]\n",
            " [0 0]\n",
            " [0 1]\n",
            " [0 0]\n",
            " [0 0]\n",
            " [0 0]\n",
            " [0 0]\n",
            " [0 0]\n",
            " [0 0]\n",
            " [0 1]\n",
            " [0 0]\n",
            " [0 0]\n",
            " [0 0]\n",
            " [0 0]\n",
            " [0 1]\n",
            " [0 0]\n",
            " [0 0]\n",
            " [0 1]\n",
            " [0 0]\n",
            " [0 0]\n",
            " [0 0]\n",
            " [0 0]\n",
            " [0 0]\n",
            " [0 0]\n",
            " [0 0]\n",
            " [0 1]\n",
            " [0 0]\n",
            " [0 1]\n",
            " [0 0]\n",
            " [0 1]\n",
            " [0 0]\n",
            " [0 0]\n",
            " [0 0]\n",
            " [0 0]\n",
            " [0 0]\n",
            " [0 0]\n",
            " [0 0]\n",
            " [0 0]\n",
            " [0 0]\n",
            " [0 0]\n",
            " [0 0]\n",
            " [0 0]\n",
            " [0 0]\n",
            " [0 0]\n",
            " [0 0]\n",
            " [0 0]\n",
            " [0 0]\n",
            " [0 0]\n",
            " [0 0]\n",
            " [0 0]\n",
            " [0 0]\n",
            " [0 0]\n",
            " [0 0]\n",
            " [0 0]\n",
            " [0 0]\n",
            " [0 0]\n",
            " [0 0]\n",
            " [0 0]\n",
            " [0 0]\n",
            " [0 0]\n",
            " [0 0]\n",
            " [0 1]\n",
            " [0 0]\n",
            " [0 0]\n",
            " [0 0]\n",
            " [0 1]\n",
            " [0 0]\n",
            " [0 0]\n",
            " [0 0]\n",
            " [0 0]\n",
            " [0 0]\n",
            " [0 0]\n",
            " [0 0]\n",
            " [0 0]\n",
            " [0 1]\n",
            " [0 1]\n",
            " [0 0]\n",
            " [0 0]\n",
            " [0 0]\n",
            " [0 0]\n",
            " [0 0]\n",
            " [0 0]\n",
            " [0 0]\n",
            " [0 0]\n",
            " [0 0]\n",
            " [0 1]\n",
            " [0 1]\n",
            " [0 0]\n",
            " [0 0]\n",
            " [0 0]\n",
            " [0 1]\n",
            " [0 0]]\n"
          ],
          "name": "stdout"
        }
      ]
    },
    {
      "cell_type": "code",
      "metadata": {
        "colab": {
          "base_uri": "https://localhost:8080/"
        },
        "id": "Gm63_ymfSGX9",
        "outputId": "791ae220-529b-4008-cdbd-61b8838d893c"
      },
      "source": [
        "from sklearn.metrics import confusion_matrix, accuracy_score\n",
        "cm = confusion_matrix(y_test, y_pred)\n",
        "print(cm)\n",
        "accuracy_score(y_test, y_pred)"
      ],
      "execution_count": 42,
      "outputs": [
        {
          "output_type": "stream",
          "text": [
            "[[213   0]\n",
            " [ 55   0]]\n"
          ],
          "name": "stdout"
        },
        {
          "output_type": "execute_result",
          "data": {
            "text/plain": [
              "0.7947761194029851"
            ]
          },
          "metadata": {
            "tags": []
          },
          "execution_count": 42
        }
      ]
    },
    {
      "cell_type": "code",
      "metadata": {
        "colab": {
          "base_uri": "https://localhost:8080/",
          "height": 349
        },
        "id": "EmhndM3bTQER",
        "outputId": "10db3bf1-78ae-4364-c2db-7d32ef389e50"
      },
      "source": [
        "from matplotlib.colors import ListedColormap\n",
        "X_set, y_set = sc.inverse_transform(X_train), y_train\n",
        "X1, X2 = np.meshgrid(np.arange(start = X_set[:, 0].min() - 10, stop = X_set[:, 0].max() + 10, step = 0.25),\n",
        "                     np.arange(start = X_set[:, 1].min() - 1000, stop = X_set[:, 1].max() + 1000, step = 0.25))\n",
        "plt.contourf(X1, X2, classifier.predict(sc.transform(np.array([X1.ravel(), X2.ravel()]).T)).reshape(X1.shape),\n",
        "             alpha = 0.75, cmap = ListedColormap(('red', 'green')))\n",
        "plt.xlim(X1.min(), X1.max())\n",
        "plt.ylim(X2.min(), X2.max())\n",
        "for i, j in enumerate(np.unique(y_set)):\n",
        "    plt.scatter(X_set[y_set == j, 0], X_set[y_set == j, 1], c = ListedColormap(('red', 'green'))(i), label = j)\n",
        "plt.title('Logistic Regression (Training set)')\n",
        "plt.xlabel('Age')\n",
        "plt.ylabel('Estimated Salary')\n",
        "plt.legend()\n",
        "plt.show()"
      ],
      "execution_count": 43,
      "outputs": [
        {
          "output_type": "stream",
          "text": [
            "*c* argument looks like a single numeric RGB or RGBA sequence, which should be avoided as value-mapping will have precedence in case its length matches with *x* & *y*.  Please use the *color* keyword-argument or provide a 2-D array with a single row if you intend to specify the same RGB or RGBA value for all points.\n",
            "*c* argument looks like a single numeric RGB or RGBA sequence, which should be avoided as value-mapping will have precedence in case its length matches with *x* & *y*.  Please use the *color* keyword-argument or provide a 2-D array with a single row if you intend to specify the same RGB or RGBA value for all points.\n"
          ],
          "name": "stderr"
        },
        {
          "output_type": "display_data",
          "data": {
            "image/png": "[encoded data removed]",
            "text/plain": [
              "<Figure size 432x288 with 1 Axes>"
            ]
          },
          "metadata": {
            "tags": [],
            "needs_background": "light"
          }
        }
      ]
    },
    {
      "cell_type": "code",
      "metadata": {
        "colab": {
          "base_uri": "https://localhost:8080/",
          "height": 349
        },
        "id": "SICshTjITeii",
        "outputId": "854ce684-6dbf-4dad-9457-d48d29e99908"
      },
      "source": [
        "from matplotlib.colors import ListedColormap\n",
        "X_set, y_set = sc.inverse_transform(X_test), y_test\n",
        "X1, X2 = np.meshgrid(np.arange(start = X_set[:, 0].min() - 10, stop = X_set[:, 0].max() + 10, step = 0.25),\n",
        "                     np.arange(start = X_set[:, 1].min() - 1000, stop = X_set[:, 1].max() + 1000, step = 0.25))\n",
        "plt.contourf(X1, X2, classifier.predict(sc.transform(np.array([X1.ravel(), X2.ravel()]).T)).reshape(X1.shape),\n",
        "             alpha = 0.75, cmap = ListedColormap(('red', 'green')))\n",
        "plt.xlim(X1.min(), X1.max())\n",
        "plt.ylim(X2.min(), X2.max())\n",
        "for i, j in enumerate(np.unique(y_set)):\n",
        "    plt.scatter(X_set[y_set == j, 0], X_set[y_set == j, 1], c = ListedColormap(('red', 'green'))(i), label = j)\n",
        "plt.title('Logistic Regression (Test set)')\n",
        "plt.xlabel('Age')\n",
        "plt.ylabel('Estimated Salary')\n",
        "plt.legend()\n",
        "plt.show()"
      ],
      "execution_count": 44,
      "outputs": [
        {
          "output_type": "stream",
          "text": [
            "*c* argument looks like a single numeric RGB or RGBA sequence, which should be avoided as value-mapping will have precedence in case its length matches with *x* & *y*.  Please use the *color* keyword-argument or provide a 2-D array with a single row if you intend to specify the same RGB or RGBA value for all points.\n",
            "*c* argument looks like a single numeric RGB or RGBA sequence, which should be avoided as value-mapping will have precedence in case its length matches with *x* & *y*.  Please use the *color* keyword-argument or provide a 2-D array with a single row if you intend to specify the same RGB or RGBA value for all points.\n"
          ],
          "name": "stderr"
        },
        {
          "output_type": "display_data",
          "data": {
            "image/png": "[encoded data removed]",
            "text/plain": [
              "<Figure size 432x288 with 1 Axes>"
            ]
          },
          "metadata": {
            "tags": [],
            "needs_background": "light"
          }
        }
      ]
    },
    {
      "cell_type": "code",
      "metadata": {
        "colab": {
          "base_uri": "https://localhost:8080/"
        },
        "id": "I0GFNVwRUooW",
        "outputId": "c5cb8a8f-7c46-4c7f-8fb4-8af85d467b0b"
      },
      "source": [
        "from sklearn import metrics\n",
        "print(\"Accuracy:\",metrics.accuracy_score(y_test, y_pred))\n"
      ],
      "execution_count": 48,
      "outputs": [
        {
          "output_type": "stream",
          "text": [
            "Accuracy: 0.7947761194029851\n"
          ],
          "name": "stdout"
        }
      ]
    }
  ]
}